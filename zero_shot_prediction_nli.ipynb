{
 "cells": [
  {
   "cell_type": "code",
   "execution_count": null,
   "id": "3d539e77",
   "metadata": {},
   "outputs": [],
   "source": [
    "import pandas as pd\n",
    "import numpy as np\n",
    "import logging\n",
    "\n",
    "import time\n",
    "from pathlib import Path\n",
    "\n",
    "import torch\n",
    "from transformers import BartForSequenceClassification, BartTokenizer, BartConfig\n",
    "\n",
    "# internal libraries\n",
    "from ressources import target_to_label\n",
    "\n",
    "# set a seed value\n",
    "torch.manual_seed(555)\n",
    "\n",
    "logging.basicConfig(level=logging.WARNING)"
   ]
  },
  {
   "cell_type": "code",
   "execution_count": null,
   "id": "dcc2e101",
   "metadata": {},
   "outputs": [],
   "source": [
    "results_dir = Path(\"results\")\n",
    "results_dir.mkdir(exist_ok=True)\n",
    "now = time.time()\n",
    "\n",
    "label_to_target = {v: k for k, v in target_to_label.items()}\n",
    "\n",
    "with open(results_dir / Path(f\"{now}.csv\"), \"w\") as f:\n",
    "    f.write(\"text,exec_time,12.1,12.2,12.3,12.4,12.5,12.6,12.7,12.8,12.a,12.b,12.c\\n\")"
   ]
  },
  {
   "cell_type": "code",
   "execution_count": null,
   "id": "89355830",
   "metadata": {},
   "outputs": [],
   "source": [
    "config = BartConfig.from_pretrained(\"valhalla/distilbart-mnli-12-9\")\n",
    "tokenizer = BartTokenizer.from_pretrained(\"valhalla/distilbart-mnli-12-9\")\n",
    "model = BartForSequenceClassification.from_pretrained(\"valhalla/distilbart-mnli-12-9\")"
   ]
  },
  {
   "cell_type": "code",
   "execution_count": null,
   "id": "c871464f",
   "metadata": {
    "scrolled": false
   },
   "outputs": [],
   "source": [
    "data = pd.read_csv(\"osdg-data.csv\")\n",
    "\n",
    "df = data[(data[\"sdg\"] == 12) & (data[\"label_osdg\"] == \"accepted\")]\n",
    "\n",
    "text = df[\"text\"].iloc[0]\n",
    "print(text)"
   ]
  },
  {
   "cell_type": "code",
   "execution_count": null,
   "id": "0ac9fa3b",
   "metadata": {},
   "outputs": [],
   "source": [
    "def predict(premise, hypothesis):\n",
    "    # run through model pre-trained on MNLI\n",
    "    input_ids = tokenizer.encode(premise, hypothesis, truncation=True, return_tensors=\"pt\")\n",
    "    logits = model(input_ids)[0]\n",
    "\n",
    "    # we throw away \"neutral\" (dim 1) and take the probability of\n",
    "    # \"entailment\" (2) as the probability of the label being true\n",
    "    entail_contradiction_logits = logits[:, [0, 2]]\n",
    "\n",
    "    probs = entail_contradiction_logits.softmax(dim=1)\n",
    "    true_prob = probs[:, 1].item() * 100\n",
    "    #logging.info(f\"Probability that '{hypothesis}' is true: {true_prob:0.2f}%\")\n",
    "\n",
    "    return true_prob"
   ]
  },
  {
   "cell_type": "code",
   "execution_count": null,
   "id": "2cd2e9fc",
   "metadata": {},
   "outputs": [],
   "source": [
    "labels = list(target_to_label.values())\n",
    "\n",
    "for text in df[\"text\"]:\n",
    "\n",
    "    results = {**{\"text\": [], \"exec_time\": []}, **{k: [] for k in target_to_label.keys()}}\n",
    "\n",
    "    start_time = time.time()\n",
    "    results[\"text\"].append(text)\n",
    "\n",
    "    for label in labels:\n",
    "        # Build hypothesis\n",
    "        hypothesis = \"The context is \" + label\n",
    "\n",
    "        # Run prediction\n",
    "        true_prob = predict(text, hypothesis)\n",
    "\n",
    "        target_id = label_to_target[label]\n",
    "        results[target_id].append(true_prob)\n",
    "\n",
    "    total_time = time.time() - start_time\n",
    "    #logging.info(f\"Total prediction time : {total_time:0.2f}s\")\n",
    "\n",
    "    results[\"exec_time\"].append(total_time)\n",
    "\n",
    "    with open(results_dir / Path(f\"{now}.csv\"), \"a\") as f:\n",
    "        for i in range(len(results[\"exec_time\"])):\n",
    "            text = results[\"text\"][i]\n",
    "            exec_time = results[\"exec_time\"][i]\n",
    "            new_line = (\n",
    "                f'\"{text}\",'\n",
    "                + \",\".join([f\"{v[i]:.2f}\" for k, v in results.items() if k != \"text\"])\n",
    "                + \"\\n\"\n",
    "            )\n",
    "            f.write(new_line)\n",
    "\n",
    "    del results"
   ]
  }
 ],
 "metadata": {
  "interpreter": {
   "hash": "3dd9be68c62975db7bc472aa9a6ad51cd9ab7476129d51a0ff06fc66688fbe30"
  },
  "kernelspec": {
   "display_name": "Python 3.10.0 ('.venv': venv)",
   "language": "python",
   "name": "python3"
  },
  "language_info": {
   "codemirror_mode": {
    "name": "ipython",
    "version": 3
   },
   "file_extension": ".py",
   "mimetype": "text/x-python",
   "name": "python",
   "nbconvert_exporter": "python",
   "pygments_lexer": "ipython3",
   "version": "3.10.0"
  }
 },
 "nbformat": 4,
 "nbformat_minor": 5
}
