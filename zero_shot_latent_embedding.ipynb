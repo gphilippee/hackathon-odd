{
 "cells": [
  {
   "cell_type": "code",
   "execution_count": 10,
   "id": "3d539e77",
   "metadata": {},
   "outputs": [],
   "source": [
    "import pandas as pd\n",
    "import matplotlib.pyplot as plt\n",
    "\n",
    "\n",
    "import logging\n",
    "import time\n",
    "from pathlib import Path\n",
    "import tqdm\n",
    "from typing import Dict\n",
    "\n",
    "import torch\n",
    "from transformers import AutoTokenizer, AutoModel\n",
    "from torch.nn import functional as F\n",
    "from sklearn.metrics import classification_report, ConfusionMatrixDisplay\n",
    "\n",
    "# internal libraries\n",
    "from ressources import target_to_label, raw_target\n",
    "\n",
    "# set a seed value\n",
    "torch.manual_seed(555)\n",
    "\n",
    "log = logging.getLogger(__name__)\n",
    "log.setLevel(logging.WARNING)"
   ]
  },
  {
   "cell_type": "code",
   "execution_count": 11,
   "id": "dcc2e101",
   "metadata": {},
   "outputs": [
    {
     "name": "stdout",
     "output_type": "stream",
     "text": [
      "Targets -- ['12.1', '12.2', '12.3', '12.4', '12.5', '12.6', '12.7', '12.8', '12.a', '12.b', '12.c', '15.1', '15.2', '15.3', '15.4', '15.5', '15.6', '15.7', '15.8', '15.9', '15.a', '15.b', '15.c', '16.1', '16.2', '16.3', '16.4', '16.5', '16.6', '16.7', '16.8', '16.9', '16.10', '16.a', '0']\n"
     ]
    }
   ],
   "source": [
    "results_dir = Path(\"results\")\n",
    "results_dir.mkdir(exist_ok=True)\n",
    "now = time.time()\n",
    "\n",
    "target2label = target_to_label\n",
    "\n",
    "label_to_target = {v: k for k, v in target2label.items()}\n",
    "\n",
    "with open(results_dir / Path(f\"zs-latent-embedding-{now}.csv\"), \"w\") as f:\n",
    "    f.write(\n",
    "        \"text,target1,target2,exec_time,\"\n",
    "        + \",\".join([k for k in target2label.keys()])\n",
    "        + \"\\n\"\n",
    "    )\n",
    "\n",
    "labels = list(v for v in target2label.values())\n",
    "\n",
    "targets = list(target2label.keys())\n",
    "targets.append(\"0\")\n",
    "print(f\"Targets -- {targets}\")"
   ]
  },
  {
   "cell_type": "code",
   "execution_count": 12,
   "id": "e8784807",
   "metadata": {},
   "outputs": [
    {
     "data": {
      "text/html": [
       "<div>\n",
       "<style scoped>\n",
       "    .dataframe tbody tr th:only-of-type {\n",
       "        vertical-align: middle;\n",
       "    }\n",
       "\n",
       "    .dataframe tbody tr th {\n",
       "        vertical-align: top;\n",
       "    }\n",
       "\n",
       "    .dataframe thead th {\n",
       "        text-align: right;\n",
       "    }\n",
       "</style>\n",
       "<table border=\"1\" class=\"dataframe\">\n",
       "  <thead>\n",
       "    <tr style=\"text-align: right;\">\n",
       "      <th></th>\n",
       "      <th>text</th>\n",
       "      <th>target1</th>\n",
       "      <th>target2</th>\n",
       "    </tr>\n",
       "  </thead>\n",
       "  <tbody>\n",
       "    <tr>\n",
       "      <th>0</th>\n",
       "      <td>As mentioned earlier the respondents were sele...</td>\n",
       "      <td>0</td>\n",
       "      <td>0</td>\n",
       "    </tr>\n",
       "    <tr>\n",
       "      <th>1</th>\n",
       "      <td>6 domestic waste incineration 5 Rural habitat ...</td>\n",
       "      <td>0</td>\n",
       "      <td>0</td>\n",
       "    </tr>\n",
       "    <tr>\n",
       "      <th>2</th>\n",
       "      <td>i Pollutant discharge permit system All enterp...</td>\n",
       "      <td>15.1</td>\n",
       "      <td>0</td>\n",
       "    </tr>\n",
       "    <tr>\n",
       "      <th>3</th>\n",
       "      <td>significant conversion of natural should be av...</td>\n",
       "      <td>15.3</td>\n",
       "      <td>0</td>\n",
       "    </tr>\n",
       "    <tr>\n",
       "      <th>4</th>\n",
       "      <td>4Note Core Principle 2 Impacts on Natural Habi...</td>\n",
       "      <td>15.5</td>\n",
       "      <td>0</td>\n",
       "    </tr>\n",
       "  </tbody>\n",
       "</table>\n",
       "</div>"
      ],
      "text/plain": [
       "                                                text target1 target2\n",
       "0  As mentioned earlier the respondents were sele...       0       0\n",
       "1  6 domestic waste incineration 5 Rural habitat ...       0       0\n",
       "2  i Pollutant discharge permit system All enterp...    15.1       0\n",
       "3  significant conversion of natural should be av...    15.3       0\n",
       "4  4Note Core Principle 2 Impacts on Natural Habi...    15.5       0"
      ]
     },
     "execution_count": 12,
     "metadata": {},
     "output_type": "execute_result"
    }
   ],
   "source": [
    "df = pd.read_csv(\"data/afd_targets_odd_12_15_16.csv\")\n",
    "df.head()"
   ]
  },
  {
   "cell_type": "code",
   "execution_count": 13,
   "id": "cfde8a41",
   "metadata": {},
   "outputs": [
    {
     "name": "stderr",
     "output_type": "stream",
     "text": [
      "  8%|▊         | 12/150 [01:51<21:23,  9.30s/it]\n"
     ]
    }
   ],
   "source": [
    "pbar = tqdm.tqdm(total=df.shape[0])"
   ]
  },
  {
   "cell_type": "code",
   "execution_count": 14,
   "id": "04f47daf",
   "metadata": {},
   "outputs": [
    {
     "name": "stderr",
     "output_type": "stream",
     "text": [
      "Some weights of the model checkpoint at deepset/sentence_bert were not used when initializing BertModel: ['classifier.weight', 'classifier.bias']\n",
      "- This IS expected if you are initializing BertModel from the checkpoint of a model trained on another task or with another architecture (e.g. initializing a BertForSequenceClassification model from a BertForPreTraining model).\n",
      "- This IS NOT expected if you are initializing BertModel from the checkpoint of a model that you expect to be exactly identical (initializing a BertForSequenceClassification model from a BertForSequenceClassification model).\n"
     ]
    }
   ],
   "source": [
    "tokenizer = AutoTokenizer.from_pretrained(\"deepset/sentence_bert\")\n",
    "model = AutoModel.from_pretrained(\"deepset/sentence_bert\")"
   ]
  },
  {
   "cell_type": "code",
   "execution_count": 15,
   "id": "f31f3db1",
   "metadata": {},
   "outputs": [],
   "source": [
    "def predict(text):\n",
    "    \"\"\"\n",
    "    Function to predict one text\n",
    "\n",
    "    :param sentence: Text to predict\n",
    "    \"\"\"\n",
    "    # run inputs through model and mean-pool over the sequence\n",
    "    # dimension to get sequence-level representations\n",
    "    inputs = tokenizer.batch_encode_plus(\n",
    "        [text] + labels,\n",
    "        truncation=True,\n",
    "        padding=True,\n",
    "        max_length=512,\n",
    "        return_tensors=\"pt\",\n",
    "    )\n",
    "    input_ids = inputs[\"input_ids\"]\n",
    "    attention_mask = inputs[\"attention_mask\"]\n",
    "    output = model(input_ids, attention_mask=attention_mask)[0]\n",
    "    text_rep = output[:1].mean(dim=1)\n",
    "    label_reps = output[1:].mean(dim=1)\n",
    "\n",
    "    # now find the labels with the highest cosine similarities to\n",
    "    # the sentence\n",
    "    similarities = F.cosine_similarity(text_rep, label_reps)\n",
    "    closest = similarities.argsort(descending=True)\n",
    "\n",
    "    if log.level == logging.INFO:\n",
    "        for ind in closest:\n",
    "            log.debug(\n",
    "                f\"label: {labels[ind]} target: {label_to_target[labels[ind]]} \\t similarity: {similarities[ind]:.2f}\"\n",
    "            )\n",
    "\n",
    "    return closest, similarities"
   ]
  },
  {
   "cell_type": "code",
   "execution_count": 16,
   "id": "7e7fbcaa",
   "metadata": {},
   "outputs": [],
   "source": [
    "def export_results(text: str, target1, target2, results: Dict):\n",
    "    \"\"\"\n",
    "    Function to export results to csv\n",
    "    \"\"\"\n",
    "    with open(results_dir / Path(f\"zs-latent-embedding-{now}.csv\"), \"a\") as f:\n",
    "        new_line = (\n",
    "            f'\"{text}\",{target1},{target2},'\n",
    "            + \",\".join([f\"{v:.2f}\" for v in results.values()])\n",
    "            + \"\\n\"\n",
    "        )\n",
    "        f.write(new_line)"
   ]
  },
  {
   "cell_type": "code",
   "execution_count": 17,
   "id": "04e52f75",
   "metadata": {},
   "outputs": [],
   "source": [
    "def calcul_score(closest, principal_target):\n",
    "    \"\"\"\n",
    "    :param closest:\n",
    "    :param principal target:\n",
    "    \"\"\"\n",
    "    pass"
   ]
  },
  {
   "cell_type": "code",
   "execution_count": 18,
   "id": "42b004f9",
   "metadata": {},
   "outputs": [
    {
     "name": "stderr",
     "output_type": "stream",
     "text": []
    }
   ],
   "source": [
    "y_true, y_pred = [], []\n",
    "\n",
    "for _, row in df.iterrows():\n",
    "\n",
    "    results = {**{\"exec_time\": 0}, **{k: 0 for k in target2label.keys()}}\n",
    "\n",
    "    text = row[\"text\"]\n",
    "    principal_target = row[\"target1\"]\n",
    "    second_target = row[\"target2\"]\n",
    "    log.debug(text)\n",
    "\n",
    "    start_time = time.time()\n",
    "\n",
    "    # Run prediction\n",
    "    closest, similarities = predict(text)\n",
    "\n",
    "    total_time = time.time() - start_time\n",
    "    results[\"exec_time\"] = total_time\n",
    "\n",
    "    for ind in closest:\n",
    "        target = label_to_target[labels[ind]]\n",
    "        results[target] = similarities[ind]\n",
    "\n",
    "    y_true.append(principal_target)\n",
    "    # target with the highest cost similarity\n",
    "    y_pred.append(label_to_target[labels[closest[0]]])\n",
    "\n",
    "    # calcul_score(closest, principal_target)\n",
    "\n",
    "    log.debug(f\"Total prediction time : {total_time:0.2f}s\")\n",
    "    log.debug(f\"1st target : {principal_target} 2nd target : {second_target}\")\n",
    "\n",
    "    # export result to csv\n",
    "    export_results(text, principal_target, second_target, results)\n",
    "    del results\n",
    "\n",
    "    pbar.update(1)"
   ]
  },
  {
   "cell_type": "code",
   "execution_count": 19,
   "id": "1d74c10e",
   "metadata": {},
   "outputs": [
    {
     "name": "stderr",
     "output_type": "stream",
     "text": [
      "/Users/guillaume/hackathon-odd/.venv/lib/python3.10/site-packages/sklearn/metrics/_classification.py:1327: UndefinedMetricWarning: Precision and F-score are ill-defined and being set to 0.0 in labels with no predicted samples. Use `zero_division` parameter to control this behavior.\n",
      "  _warn_prf(average, modifier, msg_start, len(result))\n",
      "/Users/guillaume/hackathon-odd/.venv/lib/python3.10/site-packages/sklearn/metrics/_classification.py:1327: UndefinedMetricWarning: Recall and F-score are ill-defined and being set to 0.0 in labels with no true samples. Use `zero_division` parameter to control this behavior.\n",
      "  _warn_prf(average, modifier, msg_start, len(result))\n",
      "/Users/guillaume/hackathon-odd/.venv/lib/python3.10/site-packages/sklearn/metrics/_classification.py:1327: UndefinedMetricWarning: Precision and F-score are ill-defined and being set to 0.0 in labels with no predicted samples. Use `zero_division` parameter to control this behavior.\n",
      "  _warn_prf(average, modifier, msg_start, len(result))\n",
      "/Users/guillaume/hackathon-odd/.venv/lib/python3.10/site-packages/sklearn/metrics/_classification.py:1327: UndefinedMetricWarning: Recall and F-score are ill-defined and being set to 0.0 in labels with no true samples. Use `zero_division` parameter to control this behavior.\n",
      "  _warn_prf(average, modifier, msg_start, len(result))\n",
      "/Users/guillaume/hackathon-odd/.venv/lib/python3.10/site-packages/sklearn/metrics/_classification.py:1327: UndefinedMetricWarning: Precision and F-score are ill-defined and being set to 0.0 in labels with no predicted samples. Use `zero_division` parameter to control this behavior.\n",
      "  _warn_prf(average, modifier, msg_start, len(result))\n",
      "/Users/guillaume/hackathon-odd/.venv/lib/python3.10/site-packages/sklearn/metrics/_classification.py:1327: UndefinedMetricWarning: Recall and F-score are ill-defined and being set to 0.0 in labels with no true samples. Use `zero_division` parameter to control this behavior.\n",
      "  _warn_prf(average, modifier, msg_start, len(result))\n"
     ]
    },
    {
     "name": "stdout",
     "output_type": "stream",
     "text": [
      "              precision    recall  f1-score   support\n",
      "\n",
      "        12.1       0.00      0.00      0.00         0\n",
      "        12.2       0.00      0.00      0.00         1\n",
      "        12.3       0.00      0.00      0.00         2\n",
      "        12.4       0.45      0.37      0.41        27\n",
      "        12.5       0.00      0.00      0.00        11\n",
      "        12.6       0.00      0.00      0.00         0\n",
      "        12.7       0.00      0.00      0.00         1\n",
      "        12.8       0.00      0.00      0.00         0\n",
      "        12.a       0.25      0.50      0.33         2\n",
      "        12.b       0.00      0.00      0.00         0\n",
      "        12.c       0.00      0.00      0.00         0\n",
      "        15.1       0.43      0.60      0.50        15\n",
      "        15.2       0.43      0.50      0.46         6\n",
      "        15.3       0.00      0.00      0.00         4\n",
      "        15.4       0.00      0.00      0.00         0\n",
      "        15.5       0.00      0.00      0.00         7\n",
      "        15.6       0.00      0.00      0.00         4\n",
      "        15.7       0.00      0.00      0.00         0\n",
      "        15.8       0.00      0.00      0.00         0\n",
      "        15.9       0.00      0.00      0.00         0\n",
      "        15.a       0.00      0.00      0.00         0\n",
      "        15.b       0.00      0.00      0.00         0\n",
      "        15.c       0.00      0.00      0.00         0\n",
      "        16.1       0.00      0.00      0.00         4\n",
      "        16.2       0.00      0.00      0.00         0\n",
      "        16.3       0.00      0.00      0.00         1\n",
      "        16.4       0.00      0.00      0.00         0\n",
      "        16.5       0.00      0.00      0.00        10\n",
      "        16.6       0.00      0.00      0.00        10\n",
      "        16.7       0.50      0.14      0.22         7\n",
      "        16.8       0.00      0.00      0.00         0\n",
      "        16.9       0.00      0.00      0.00         0\n",
      "       16.10       0.00      0.00      0.00         1\n",
      "        16.a       0.11      0.20      0.14         5\n",
      "           0       0.00      0.00      0.00        31\n",
      "\n",
      "   micro avg       0.17      0.17      0.17       149\n",
      "   macro avg       0.06      0.07      0.06       149\n",
      "weighted avg       0.17      0.17      0.16       149\n",
      "\n"
     ]
    },
    {
     "data": {
      "text/plain": [
       "<sklearn.metrics._plot.confusion_matrix.ConfusionMatrixDisplay at 0x13713c550>"
      ]
     },
     "execution_count": 19,
     "metadata": {},
     "output_type": "execute_result"
    },
    {
     "data": {
      "image/png": "[encoded data removed]",
      "text/plain": [
       "<Figure size 1440x1080 with 2 Axes>"
      ]
     },
     "metadata": {
      "needs_background": "light"
     },
     "output_type": "display_data"
    }
   ],
   "source": [
    "print(classification_report(y_true, y_pred, labels=targets))\n",
    "\n",
    "fig, ax = plt.subplots(figsize=(20, 15))\n",
    "ConfusionMatrixDisplay.from_predictions(y_true, y_pred, labels=targets, ax=ax)"
   ]
  }
 ],
 "metadata": {
  "interpreter": {
   "hash": "3dd9be68c62975db7bc472aa9a6ad51cd9ab7476129d51a0ff06fc66688fbe30"
  },
  "kernelspec": {
   "display_name": "Python 3.10.0 ('.venv': venv)",
   "language": "python",
   "name": "python3"
  },
  "language_info": {
   "codemirror_mode": {
    "name": "ipython",
    "version": 3
   },
   "file_extension": ".py",
   "mimetype": "text/x-python",
   "name": "python",
   "nbconvert_exporter": "python",
   "pygments_lexer": "ipython3",
   "version": "3.10.0"
  }
 },
 "nbformat": 4,
 "nbformat_minor": 5
}
