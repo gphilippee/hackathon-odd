{
 "cells": [
  {
   "cell_type": "code",
   "execution_count": 56,
   "id": "3d539e77",
   "metadata": {},
   "outputs": [],
   "source": [
    "import pandas as pd\n",
    "import numpy as np\n",
    "\n",
    "import time\n",
    "from pathlib import Path\n",
    "\n",
    "import torch\n",
    "from transformers import BartForSequenceClassification, BartTokenizer, BartConfig\n",
    "\n",
    "# set a seed value\n",
    "torch.manual_seed(555)\n",
    "\n",
    "# internal libraries\n",
    "from ressources import target_to_label"
   ]
  },
  {
   "cell_type": "code",
   "execution_count": 57,
   "id": "dcc2e101",
   "metadata": {},
   "outputs": [],
   "source": [
    "results_dir = Path(\"results\")\n",
    "now = time.time()\n",
    "\n",
    "results = {**{\"text\": [], \"time\": []}, **{k: [] for k in target_to_label.keys()}}\n",
    "\n",
    "label_to_target = {v: k for k, v in target_to_label.items()}\n",
    "\n",
    "with open(results_dir / Path(f\"{now}.csv\"), \"w\") as f:\n",
    "    f.write(\"text,time,12.1,12.2,12.3,12.4,12.5,12.6,12.7,12.8,12.a,12.b,12.c\\n\")"
   ]
  },
  {
   "cell_type": "code",
   "execution_count": 58,
   "id": "89355830",
   "metadata": {},
   "outputs": [],
   "source": [
    "config = BartConfig.from_pretrained(\"valhalla/distilbart-mnli-12-9\")\n",
    "tokenizer = BartTokenizer.from_pretrained(\"valhalla/distilbart-mnli-12-9\")\n",
    "model = BartForSequenceClassification.from_pretrained(\"valhalla/distilbart-mnli-12-9\")"
   ]
  },
  {
   "cell_type": "code",
   "execution_count": 59,
   "id": "c871464f",
   "metadata": {
    "scrolled": false
   },
   "outputs": [
    {
     "name": "stdout",
     "output_type": "stream",
     "text": [
      "This makes tourism a co-ordination-intensive, as well as information-intensive, industry (Zhang et al. The key components of tourism are accommodation, transport, attractions and excursions, and restaurants; all are ‘perishable’. This means that airline seats, hotel rooms and daily ticket sales, for example, cannot be stored for potential future sales. This level of uncertainty, coupled with the uncertainty of global trends and exogenous shocks, has become an important area of tourism supply chain research. Areas of particular interest include demand forecasting, yield or revenue management and inventory management (Zhang et al. Finally, the supply chains in tourism that already exist are usually part of the wider global operations of major hotels and resorts (for example Hilton and Four Seasons hotels) and of cruise ship operators (for example Carnival Corporation and Royal Caribbean).\n"
     ]
    }
   ],
   "source": [
    "data = pd.read_csv(\"osdg-data.csv\")\n",
    "\n",
    "df = data[(data[\"sdg\"] == 12) & (data[\"label_osdg\"] == \"accepted\")]\n",
    "\n",
    "text = df[\"text\"].iloc[0]\n",
    "print(text)"
   ]
  },
  {
   "cell_type": "code",
   "execution_count": 60,
   "id": "0ac9fa3b",
   "metadata": {},
   "outputs": [],
   "source": [
    "def predict(premise, hypothesis):\n",
    "    # run through model pre-trained on MNLI\n",
    "    input_ids = tokenizer.encode(premise, hypothesis, return_tensors=\"pt\")\n",
    "    logits = model(input_ids)[0]\n",
    "\n",
    "    # we throw away \"neutral\" (dim 1) and take the probability of\n",
    "    # \"entailment\" (2) as the probability of the label being true\n",
    "    entail_contradiction_logits = logits[:, [0, 2]]\n",
    "\n",
    "    probs = entail_contradiction_logits.softmax(dim=1)\n",
    "    true_prob = probs[:, 1].item() * 100\n",
    "    print(f\"Probability that '{hypothesis}' is true: {true_prob:0.2f}%\")\n",
    "\n",
    "    return true_prob"
   ]
  },
  {
   "cell_type": "code",
   "execution_count": 61,
   "id": "2cd2e9fc",
   "metadata": {},
   "outputs": [
    {
     "name": "stdout",
     "output_type": "stream",
     "text": [
      "Probability that 'The context is countries taking action on sustainable consumption and production' is true: 68.07%\n",
      "Probability that 'The context is sustainable management and efficient use of natural resources' is true: 12.63%\n",
      "Probability that 'The context is halve per capita global food waste and reduce food losses' is true: 24.30%\n",
      "Probability that 'The context is environmentally sound management of all wastes' is true: 1.72%\n",
      "Probability that 'The context is substantially reduce waste generation' is true: 12.65%\n",
      "Probability that 'The context is encourage companies to integrate sustainability into their reporting cycle' is true: 47.04%\n",
      "Probability that 'The context is promote public procurement practices that are sustainable' is true: 37.22%\n",
      "Probability that 'The context is ensure that people have the relevant information and awareness for sustainable development and lifestyles' is true: 78.46%\n",
      "Probability that 'The context is strengthen their scientific and technological capacity for sustainable patterns of consumption and production' is true: 82.42%\n",
      "Probability that 'The context is sustainable tourism that creates jobs and promotes local culture and product' is true: 77.59%\n",
      "Probability that 'The context is rationalizing inefficient fossil-fuel subsidies and wasteful consumption' is true: 12.51%\n",
      "Total prediction time : 18.30s\n"
     ]
    }
   ],
   "source": [
    "labels = list(target_to_label.values())\n",
    "\n",
    "for text in df[\"text\"]:\n",
    "\n",
    "    start_time = time.time()\n",
    "    results[\"text\"].append(text)\n",
    "\n",
    "    for label in labels:\n",
    "        # Build hypothesis\n",
    "        hypothesis = \"The context is \" + label\n",
    "\n",
    "        # Run prediction\n",
    "        true_prob = predict(text, hypothesis)\n",
    "\n",
    "        target_id = label_to_target[label]\n",
    "        results[target_id].append(true_prob)\n",
    "\n",
    "    total_time = time.time() - start_time\n",
    "    print(f\"Total prediction time : {total_time:0.2f}s\")\n",
    "\n",
    "    results[\"time\"].append(total_time)\n",
    "    break"
   ]
  },
  {
   "cell_type": "code",
   "execution_count": 71,
   "id": "d0fa6ef5",
   "metadata": {},
   "outputs": [],
   "source": [
    "with open(results_dir / Path(f\"{now}.csv\"), \"a\") as f:\n",
    "    for i in range(len(results[\"time\"])):\n",
    "        text = results[\"text\"][i]\n",
    "        time = results[\"time\"][i]\n",
    "        new_line = (\n",
    "            f'\"{text}\",'\n",
    "            + \",\".join([f\"{v[i]:.2f}\" for k, v in results.items() if k != \"text\"])\n",
    "            + \"\\n\"\n",
    "        )\n",
    "        f.write(new_line)"
   ]
  }
 ],
 "metadata": {
  "interpreter": {
   "hash": "3dd9be68c62975db7bc472aa9a6ad51cd9ab7476129d51a0ff06fc66688fbe30"
  },
  "kernelspec": {
   "display_name": "Python 3.10.0 ('.venv': venv)",
   "language": "python",
   "name": "python3"
  },
  "language_info": {
   "codemirror_mode": {
    "name": "ipython",
    "version": 3
   },
   "file_extension": ".py",
   "mimetype": "text/x-python",
   "name": "python",
   "nbconvert_exporter": "python",
   "pygments_lexer": "ipython3",
   "version": "3.10.0"
  }
 },
 "nbformat": 4,
 "nbformat_minor": 5
}
