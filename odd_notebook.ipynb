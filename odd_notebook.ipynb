{
 "cells": [
  {
   "cell_type": "code",
   "execution_count": 17,
   "id": "3d539e77",
   "metadata": {},
   "outputs": [],
   "source": [
    "import pandas as pd\n",
    "import numpy as np\n",
    "\n",
    "import time\n",
    "\n",
    "import torch\n",
    "# set a seed value\n",
    "torch.manual_seed(555)\n",
    "\n",
    "from sklearn.utils import shuffle\n",
    "from sklearn.metrics import roc_auc_score, accuracy_score\n",
    "\n",
    "#import warnings\n",
    "#warnings.filterwarnings(\"ignore\")\n",
    "\n",
    "from transformers import BartForSequenceClassification, BartTokenizer, BartConfig\n",
    "\n",
    "# internal libraries\n",
    "from ressources import target_to_label, raw_target"
   ]
  },
  {
   "cell_type": "markdown",
   "id": "8800e293",
   "metadata": {},
   "source": [
    "# "
   ]
  },
  {
   "cell_type": "code",
   "execution_count": 18,
   "id": "89355830",
   "metadata": {},
   "outputs": [],
   "source": [
    "config = BartConfig.from_pretrained(\"valhalla/distilbart-mnli-12-9\")\n",
    "tokenizer = BartTokenizer.from_pretrained('valhalla/distilbart-mnli-12-9')\n",
    "model = BartForSequenceClassification.from_pretrained('valhalla/distilbart-mnli-12-9')"
   ]
  },
  {
   "cell_type": "code",
   "execution_count": 19,
   "id": "c871464f",
   "metadata": {
    "scrolled": false
   },
   "outputs": [
    {
     "name": "stdout",
     "output_type": "stream",
     "text": [
      "This makes tourism a co-ordination-intensive, as well as information-intensive, industry (Zhang et al. The key components of tourism are accommodation, transport, attractions and excursions, and restaurants; all are ‘perishable’. This means that airline seats, hotel rooms and daily ticket sales, for example, cannot be stored for potential future sales. This level of uncertainty, coupled with the uncertainty of global trends and exogenous shocks, has become an important area of tourism supply chain research. Areas of particular interest include demand forecasting, yield or revenue management and inventory management (Zhang et al. Finally, the supply chains in tourism that already exist are usually part of the wider global operations of major hotels and resorts (for example Hilton and Four Seasons hotels) and of cruise ship operators (for example Carnival Corporation and Royal Caribbean).\n"
     ]
    }
   ],
   "source": [
    "data = pd.read_csv(\"osdg-data.csv\")\n",
    "\n",
    "\n",
    "df = data[(data['sdg'] == 12) & (data['label_osdg'] ==\"accepted\")]\n",
    "\n",
    "\n",
    "text = df[\"text\"].iloc[0]\n",
    "print(text)"
   ]
  },
  {
   "cell_type": "code",
   "execution_count": 20,
   "id": "0ac9fa3b",
   "metadata": {},
   "outputs": [],
   "source": [
    "def predict(premise,hypothesis) :    \n",
    "    # run through model pre-trained on MNLI\n",
    "    input_ids = tokenizer.encode(premise, hypothesis, return_tensors='pt')\n",
    "    logits = model(input_ids)[0]\n",
    "\n",
    "    # we throw away \"neutral\" (dim 1) and take the probability of\n",
    "    # \"entailment\" (2) as the probability of the label being true \n",
    "    entail_contradiction_logits = logits[:,[0,2]]\n",
    "    # print(entail_contradiction_logits)\n",
    "    probs = entail_contradiction_logits.softmax(dim=1)\n",
    "    true_prob = probs[:,1].item() * 100\n",
    "    print(f'Probability that {hypothesis} is true: {true_prob:0.2f}%')\n",
    "    "
   ]
  },
  {
   "cell_type": "code",
   "execution_count": 21,
   "id": "2cd2e9fc",
   "metadata": {},
   "outputs": [
    {
     "name": "stdout",
     "output_type": "stream",
     "text": [
      "Probability that Implement the 10-year framework of programmes on sustainable consumption and production, all countries taking action, with developed countries taking the lead, taking into account the development and capabilities of developing countries is true: 43.10%\n",
      "Total prediction time : 0.70s\n",
      "Probability that By 2030, achieve the sustainable management and efficient use of natural resources is true: 13.91%\n",
      "Total prediction time : 0.65s\n",
      "Probability that By 2030, halve per capita global food waste at the retail and consumer levels and reduce food losses along production and supply chains, including post-harvest losses is true: 6.74%\n",
      "Total prediction time : 0.63s\n",
      "Probability that By 2020, achieve the environmentally sound management of chemicals and all wastes throughout their life cycle, in accordance with agreed international frameworks, and significantly reduce their release to air, water and soil in order to minimize their adverse impacts on human health and the environment is true: 30.43%\n",
      "Total prediction time : 0.70s\n",
      "Probability that By 2030, substantially reduce waste generation through prevention, reduction, recycling and reuse is true: 10.28%\n",
      "Total prediction time : 0.63s\n",
      "Probability that Encourage companies, especially large and transnational companies, to adopt sustainable practices and to integrate sustainability information into their reporting cycle is true: 56.66%\n",
      "Total prediction time : 0.60s\n",
      "Probability that Promote public procurement practices that are sustainable, in accordance with national policies and priorities is true: 27.18%\n",
      "Total prediction time : 0.67s\n",
      "Probability that By 2030, ensure that people everywhere have the relevant information and awareness for sustainable development and lifestyles in harmony with nature is true: 21.82%\n",
      "Total prediction time : 0.68s\n",
      "Probability that Support developing countries to strengthen their scientific and technological capacity to move towards more sustainable patterns of consumption and production is true: 61.03%\n",
      "Total prediction time : 0.70s\n",
      "Probability that Develop and implement tools to monitor sustainable development impacts for sustainable tourism that creates jobs and promotes local culture and products is true: 69.02%\n",
      "Total prediction time : 0.67s\n",
      "Probability that Rationalize inefficient fossil-fuel subsidies that encourage wasteful consumption by removing market distortions, in accordance with national circumstances, including by restructuring taxation and phasing out those harmful subsidies, where they exist, to reflect their environmental impacts, taking fully into account the specific needs and conditions of developing countries and minimizing the possible adverse impacts on their development in a manner that protects the poor and the affected communities is true: 91.72%\n",
      "Total prediction time : 0.91s\n"
     ]
    }
   ],
   "source": [
    "labels = list(target_to_label.values())\n",
    "labels_raw = list(raw_target.values())\n",
    "\n",
    "for label in labels_raw :\n",
    "    # Build hypothesis\n",
    "    hypothesis = label\n",
    "    \n",
    "    start_time = time.time()\n",
    "    predict(text,hypothesis)\n",
    "    total_time = time.time() - start_time\n",
    "    \n",
    "    print(f\"Total prediction time : {total_time:0.2f}s\")\n",
    "    "
   ]
  },
  {
   "cell_type": "code",
   "execution_count": null,
   "id": "57df09e2",
   "metadata": {},
   "outputs": [],
   "source": []
  }
 ],
 "metadata": {
  "kernelspec": {
   "display_name": "Python 3 (ipykernel)",
   "language": "python",
   "name": "python3"
  },
  "language_info": {
   "codemirror_mode": {
    "name": "ipython",
    "version": 3
   },
   "file_extension": ".py",
   "mimetype": "text/x-python",
   "name": "python",
   "nbconvert_exporter": "python",
   "pygments_lexer": "ipython3",
   "version": "3.9.12"
  }
 },
 "nbformat": 4,
 "nbformat_minor": 5
}
