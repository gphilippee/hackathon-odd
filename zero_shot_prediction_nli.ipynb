{
 "cells": [
  {
   "cell_type": "code",
   "execution_count": null,
   "id": "3d539e77",
   "metadata": {},
   "outputs": [],
   "source": [
    "import pandas as pd\n",
    "import numpy as np\n",
    "import logging\n",
    "import tqdm\n",
    "import time\n",
    "from pathlib import Path\n",
    "\n",
    "import torch\n",
    "from transformers import BartForSequenceClassification, BartTokenizer, BartConfig\n",
    "from sklearn.metrics import classification_report, ConfusionMatrixDisplay\n",
    "import matplotlib.pyplot as plt\n",
    "\n",
    "# internal libraries\n",
    "from ressources import target_to_label\n",
    "\n",
    "# set a seed value\n",
    "torch.manual_seed(555)\n",
    "\n",
    "logging.basicConfig(level=logging.WARNING)"
   ]
  },
  {
   "cell_type": "code",
   "execution_count": null,
   "id": "dcc2e101",
   "metadata": {},
   "outputs": [],
   "source": [
    "results_dir = Path(\"results\")\n",
    "results_dir.mkdir(exist_ok=True)\n",
    "now = time.time()\n",
    "\n",
    "label_to_target = {v: k for k, v in target_to_label.items()}\n",
    "\n",
    "with open(results_dir / Path(f\"zs-nli-{now}.csv\"), \"w\") as f:\n",
    "    f.write(\n",
    "        \"text,target1,target2,exec_time,\"\n",
    "        + \",\".join([k for k in target_to_label.keys()])\n",
    "        + \"\\n\"\n",
    "    )"
   ]
  },
  {
   "cell_type": "code",
   "execution_count": null,
   "id": "1742c2b2",
   "metadata": {},
   "outputs": [],
   "source": [
    "targets = [k for k in target_to_label.keys()]\n",
    "targets.append(\"0\")"
   ]
  },
  {
   "cell_type": "code",
   "execution_count": null,
   "id": "89355830",
   "metadata": {},
   "outputs": [],
   "source": [
    "config = BartConfig.from_pretrained(\"valhalla/distilbart-mnli-12-9\")\n",
    "tokenizer = BartTokenizer.from_pretrained(\"valhalla/distilbart-mnli-12-9\")\n",
    "model = BartForSequenceClassification.from_pretrained(\"valhalla/distilbart-mnli-12-9\")\n",
    "model.eval()"
   ]
  },
  {
   "cell_type": "code",
   "execution_count": null,
   "id": "c871464f",
   "metadata": {
    "scrolled": false
   },
   "outputs": [],
   "source": [
    "# data = pd.read_csv(\"osdg-data.csv\")\n",
    "\n",
    "# df = data[(data[\"sdg\"] == 12) & (data[\"label_osdg\"] == \"accepted\")]\n",
    "\n",
    "# text = df[\"text\"].iloc[0]\n",
    "# print(text)"
   ]
  },
  {
   "cell_type": "code",
   "execution_count": null,
   "id": "0ac9fa3b",
   "metadata": {},
   "outputs": [],
   "source": [
    "def predict(premise, hypothesis):\n",
    "    # run through model pre-trained on MNLI\n",
    "    input_ids = tokenizer.encode(\n",
    "        premise, hypothesis, truncation=True, return_tensors=\"pt\"\n",
    "    )\n",
    "    with torch.no_grad():\n",
    "        logits = model(input_ids)[0]\n",
    "\n",
    "    # we throw away \"neutral\" (dim 1) and take the probability of\n",
    "    # \"entailment\" (2) as the probability of the label being true\n",
    "    entail_contradiction_logits = logits[:, [0, 2]]\n",
    "\n",
    "    probs = entail_contradiction_logits.softmax(dim=1)\n",
    "    true_prob = probs[:, 1].item() * 100\n",
    "    # logging.info(f\"Probability that '{hypothesis}' is true: {true_prob:0.2f}%\")\n",
    "\n",
    "    return true_prob"
   ]
  },
  {
   "cell_type": "code",
   "execution_count": null,
   "id": "2cd2e9fc",
   "metadata": {},
   "outputs": [],
   "source": [
    "labels = list(target_to_label.values())\n",
    "\n",
    "# df true\n",
    "df_true = pd.read_csv(\"data/afd_targets_odd_12_15_16.csv\")\n",
    "\n",
    "\n",
    "y_true = []\n",
    "y_pred = []\n",
    "\n",
    "pbar = tqdm.tqdm(150)\n",
    "\n",
    "for index, row in df_true.iterrows():  # text\n",
    "\n",
    "    results = {**{\"exec_time\": 0}, **{k: \"\" for k in target_to_label.keys()}}\n",
    "\n",
    "    start_time = time.time()\n",
    "\n",
    "    text = row[\"text\"]\n",
    "    target_max = None\n",
    "    maximum = -1\n",
    "    for label in labels:\n",
    "        # Build hypothesis\n",
    "        hypothesis = \"The context is \" + label\n",
    "\n",
    "        # Run prediction\n",
    "        true_prob = predict(text, hypothesis)\n",
    "\n",
    "        target = label_to_target[label]\n",
    "        results[target] = true_prob\n",
    "\n",
    "        if true_prob >= maximum:\n",
    "            maximum = true_prob\n",
    "            target_max = target\n",
    "\n",
    "    total_time = time.time() - start_time\n",
    "    # logging.info(f\"Total prediction time : {total_time:0.2f}s\")\n",
    "\n",
    "    results[\"exec_time\"] = total_time\n",
    "\n",
    "    # add maximum and true label\n",
    "    y_pred.append(target_max)\n",
    "    y_true.append(row[\"target1\"])\n",
    "\n",
    "    with open(results_dir / Path(f\"zs-nli-{now}.csv\"), \"a\") as f:\n",
    "        exec_time = results[\"exec_time\"]\n",
    "        new_line = (\n",
    "            f'\"{text}\",{row[\"target1\"]},{row[\"target2\"]},'\n",
    "            + \",\".join([f\"{v:.2f}\" for v in results.values()])\n",
    "            + \"\\n\"\n",
    "        )\n",
    "        f.write(new_line)\n",
    "\n",
    "    del results\n",
    "    pbar.update(1)"
   ]
  },
  {
   "cell_type": "code",
   "execution_count": null,
   "id": "68beb9eb",
   "metadata": {},
   "outputs": [],
   "source": [
    "print(classification_report(y_true, y_pred, labels=targets))\n",
    "\n",
    "fig, ax = plt.subplots(figsize=(20, 15))\n",
    "ConfusionMatrixDisplay.from_predictions(y_true, y_pred, labels=targets, ax=ax)"
   ]
  },
  {
   "cell_type": "code",
   "execution_count": null,
   "id": "87451c41",
   "metadata": {},
   "outputs": [],
   "source": []
  }
 ],
 "metadata": {
  "interpreter": {
   "hash": "3dd9be68c62975db7bc472aa9a6ad51cd9ab7476129d51a0ff06fc66688fbe30"
  },
  "kernelspec": {
   "display_name": "Python 3 (ipykernel)",
   "language": "python",
   "name": "python3"
  },
  "language_info": {
   "codemirror_mode": {
    "name": "ipython",
    "version": 3
   },
   "file_extension": ".py",
   "mimetype": "text/x-python",
   "name": "python",
   "nbconvert_exporter": "python",
   "pygments_lexer": "ipython3",
   "version": "3.10.0"
  }
 },
 "nbformat": 4,
 "nbformat_minor": 5
}
